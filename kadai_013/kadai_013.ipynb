{
  "nbformat": 4,
  "nbformat_minor": 0,
  "metadata": {
    "colab": {
      "provenance": []
    },
    "kernelspec": {
      "name": "python3",
      "display_name": "Python 3"
    },
    "language_info": {
      "name": "python"
    }
  },
  "cells": [
    {
      "cell_type": "code",
      "execution_count": 6,
      "metadata": {
        "colab": {
          "base_uri": "https://localhost:8080/"
        },
        "id": "zYMRXvWZ-S3I",
        "outputId": "64fa5d01-f8f4-4b74-bf54-0468c0d1d020"
      },
      "outputs": [
        {
          "output_type": "stream",
          "name": "stdout",
          "text": [
            "1320.0\n"
          ]
        }
      ],
      "source": [
        "def function(product:int, tax:float):\n",
        "  sum = product * tax\n",
        "  print(sum)\n",
        "\n",
        "function(1200, 1.1)"
      ]
    }
  ]
}