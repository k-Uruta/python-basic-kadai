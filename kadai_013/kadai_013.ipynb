{
  "nbformat": 4,
  "nbformat_minor": 0,
  "metadata": {
    "colab": {
      "provenance": []
    },
    "kernelspec": {
      "name": "python3",
      "display_name": "Python 3"
    },
    "language_info": {
      "name": "python"
    }
  },
  "cells": [
    {
      "cell_type": "code",
      "execution_count": 1,
      "metadata": {
        "colab": {
          "base_uri": "https://localhost:8080/"
        },
        "id": "p-mnCtRxajE8",
        "outputId": "fd4a8e13-a2fd-4acf-a8ad-b645856b581d"
      },
      "outputs": [
        {
          "output_type": "execute_result",
          "data": {
            "text/plain": [
              "1320.0"
            ]
          },
          "metadata": {},
          "execution_count": 1
        }
      ],
      "source": [
        "# 商品：1200\n",
        "# 消費税:10%\n",
        "\n",
        "def function(goods:int, tax:float):\n",
        "  return goods * tax\n",
        "\n",
        "function(1200, 1.1)\n"
      ]
    }
  ]
}