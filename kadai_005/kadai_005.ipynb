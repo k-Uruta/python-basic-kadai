{
  "nbformat": 4,
  "nbformat_minor": 0,
  "metadata": {
    "colab": {
      "provenance": []
    },
    "kernelspec": {
      "name": "python3",
      "display_name": "Python 3"
    },
    "language_info": {
      "name": "python"
    }
  },
  "cells": [
    {
      "cell_type": "code",
      "execution_count": 3,
      "metadata": {
        "colab": {
          "base_uri": "https://localhost:8080/"
        },
        "id": "4MJFSV3s5gBr",
        "outputId": "6829b00e-cfb6-401a-ac13-44cd175f219d"
      },
      "outputs": [
        {
          "output_type": "stream",
          "name": "stdout",
          "text": [
            "75㎠\n"
          ]
        }
      ],
      "source": [
        "up_side = 10\n",
        "down_side = 20\n",
        "height = 5\n",
        "\n",
        "area = str(int((up_side + down_side) * height / 2))\n",
        "\n",
        "print(area + \"㎠\")"
      ]
    },
    {
      "cell_type": "markdown",
      "source": [
        "上辺：10cm<br>下辺：20cm<br>高さ：5cm<br><br>公式：台形の面積 =（上辺＋下辺）× 高さ ÷ 2\n"
      ],
      "metadata": {
        "id": "jDd9DHKt5gn8"
      }
    }
  ]
}